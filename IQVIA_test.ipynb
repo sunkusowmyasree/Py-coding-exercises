{
 "cells": [
  {
   "cell_type": "markdown",
   "metadata": {},
   "source": [
    "1st Question\n",
    "\n",
    "Write a function replace_latest_slice() which takes a string query, and changes all\n",
    "occurrences of latest_slice::<table> to (SELECT * FROM <table> WHERE ds =\n",
    "'LATEST').\n",
    "Example:\n",
    "<> replace_latest_slice(query=\"\"\"SELECT * FROM\n",
    "latest_slice::sale_order so INNER JOIN latest_slice::res_partner rp ON\n",
    "so.id = rp.id\"\"\")\n",
    "SELECT * FROM (SELECT * FROM sale_order WHERE ds = 'LATEST') so INNER\n",
    "JOIN (SELECT * FROM res_partner WHERE ds = 'LATEST') rp ON so.id =\n",
    "rp.id"
   ]
  },
  {
   "cell_type": "code",
   "execution_count": 22,
   "metadata": {},
   "outputs": [
    {
     "name": "stdout",
     "output_type": "stream",
     "text": [
      "latest_slice::sale_order\n",
      "latest_slice::res_partner\n",
      "SELECT * FROM (SELECT * FROM <table> WHERE ds ='LATEST') so INNER JOIN (SELECT * FROM <table> WHERE ds ='LATEST') rp ON\n",
      "so.id = rp.id\n"
     ]
    }
   ],
   "source": [
    "def replace_latest_slice(query):\n",
    "    #Extract Latest_slice<table_name> from query\n",
    "    split_query = query.split()\n",
    "    for sub_string in split_query:\n",
    "        if sub_string.startswith('latest'):\n",
    "            print(sub_string)\n",
    "            query = query.replace(sub_string, \"(SELECT * FROM <table> WHERE ds ='LATEST')\")\n",
    "    return query\n",
    "    \n",
    "print(replace_latest_slice(query=\"\"\"SELECT * FROM latest_slice::sale_order so INNER JOIN latest_slice::res_partner rp ON\n",
    "so.id = rp.id\"\"\"))"
   ]
  },
  {
   "cell_type": "markdown",
   "metadata": {},
   "source": [
    "2. SQL – time estimate 20mn\n",
    "Given two tables:\n",
    "● deliveries(id INT, day DATE, driver_id INT)\n",
    "● drivers(id INT, name VARCHAR, city VARCHAR)\n",
    "Write an SQL query that\n",
    "A. counts for each driver, 2017 September deliveries that happened in Dubai (stats).\n",
    "B. counts how many drivers made more than 1,000 overall deliveries in Dubai (top drivers).\n",
    "C. counts how many days driver John Smith made deliveries in 2017 September (active\n",
    "days).\n",
    "D. counts deliveries on 2017-09-01 that were assigned to a non-existent driver (errors)."
   ]
  },
  {
   "cell_type": "code",
   "execution_count": null,
   "metadata": {},
   "outputs": [],
   "source": [
    "#SQL Query for PART-A\n",
    "select count(*),d.name from drivers dr inner join deliveries de on dr.id=de.driver_id group by de.name where de.YEAR(day) = '2017' and de.Month(date)= 8 and dr.city ='Dubai'\n",
    "\n",
    "#SQL Query for PART-B\n",
    "select count(dr.drivers) from drivers dr inner join deliveries de on dr.id=de.driver_id group by de.name HAVING count(*) > 1000 and de.city ='Dubai'\n",
    "\n",
    "#SQL Query for PART-C\n",
    "select DAY(DATEADD(DD,-1,DATEADD(MM,DATEDIFF(MM,-1,de.day),0))) from drivers dr inner join deliveries de on dr.id=de.driver_id group by de.name where dr.name='John smith' and de.YEAR(day) = '2017' and de.Month(date)=8\n",
    "\n",
    "#SQL Query for PART-D\n",
    "select count(*) from deliveries de where de.day = '2017-09-01' and de.driver_id is NULL\n"
   ]
  },
  {
   "cell_type": "markdown",
   "metadata": {},
   "source": [
    "3. Split string – time estimate 40mn\n",
    "We can define 2 special types of strings (both consisting of lowercase English letters) :\n",
    "two_string : string of length 2 (example: \"ab\",\"zz\")\n",
    "three_string: string of length 3 (example: \"abc\",\"ghw\").\n",
    "You can create new strings by placing one or several two_strings and three_strings side by side\n",
    "in a line and without placing two same strings next to one another.\n",
    "From the example above you can create for example “abzz”, “ababc”, “zzabcghwab” etc.\n",
    "Given a string S, think of all the ways in which that string S could have been built with the above\n",
    "method and enumerate all the distinct two_strings and three_strings you would need for all\n",
    "these different ways of building S.\n",
    "For example given a string abcdef there are two ways to build (ab, cd, ef) (abc, def) so the list of\n",
    "distinct strings is ['ab', 'cd', 'ef', 'abc', 'def'].\n",
    "Write a function split_string() which, given a string S of length N, returns the list of all distinct\n",
    "two_strings and three_strings that could be used for building S, and an empty list if there is no\n",
    "solution.\n",
    "Constraints:\n",
    "N<100\n",
    "Adjacent two same strings are forbidden\n",
    "Example :\n",
    ">>> split_string(S=”abcdef”)\n",
    "['ab', 'abc', 'cd', 'def', 'ef']\n",
    ">>> split_string(S=”abcdefg”)\n",
    "['ab', 'abc', 'cd', 'cde', 'de', 'efg', 'fg']\n",
    ">>> split_string(S=”ababcabc”)\n",
    "['aba', 'abc', 'bc', 'bca']\n",
    ">>> split_string(S=”ccccacccc”)\n",
    "['cac', 'ccc']"
   ]
  },
  {
   "cell_type": "code",
   "execution_count": 32,
   "metadata": {},
   "outputs": [],
   "source": [
    "def split_string(s):\n",
    "    substrings=set()\n",
    "    substring_len = 2\n",
    "    for idx in range(0, len(s), substring_len):\n",
    "        ss = s[idx:idx+substring_len]\n",
    "        if len(ss) >1:\n",
    "            substrings.add(ss)\n",
    "    substring_len = 3\n",
    "    for idx in range(0, len(s), substring_len):\n",
    "        ss = s[idx:idx+substring_len]\n",
    "        if len(ss) >1:\n",
    "            substrings.add(ss)\n",
    "    if len(substrings) ==0:\n",
    "        return list()\n",
    "    else:\n",
    "        return list(substrings)\n",
    "            "
   ]
  },
  {
   "cell_type": "code",
   "execution_count": 89,
   "metadata": {},
   "outputs": [
    {
     "name": "stdout",
     "output_type": "stream",
     "text": [
      "abcedf\n"
     ]
    },
    {
     "data": {
      "text/plain": [
       "['abc', 'ab', 'ce', 'edf', 'df']"
      ]
     },
     "execution_count": 89,
     "metadata": {},
     "output_type": "execute_result"
    }
   ],
   "source": [
    "test1= split_string(input())\n",
    "test1"
   ]
  },
  {
   "cell_type": "code",
   "execution_count": 90,
   "metadata": {},
   "outputs": [
    {
     "name": "stdout",
     "output_type": "stream",
     "text": [
      "ccccacccc\n"
     ]
    },
    {
     "data": {
      "text/plain": [
       "['cc', 'ccc', 'cac', 'ac']"
      ]
     },
     "execution_count": 90,
     "metadata": {},
     "output_type": "execute_result"
    }
   ],
   "source": [
    "test2= split_string(input())\n",
    "test2"
   ]
  },
  {
   "cell_type": "code",
   "execution_count": 86,
   "metadata": {},
   "outputs": [
    {
     "name": "stdout",
     "output_type": "stream",
     "text": [
      "ababcabc\n"
     ]
    },
    {
     "data": {
      "text/plain": [
       "['ab', 'aba', 'ca', 'bca', 'bc']"
      ]
     },
     "execution_count": 86,
     "metadata": {},
     "output_type": "execute_result"
    }
   ],
   "source": [
    "test3= split_string(input())\n",
    "test3"
   ]
  },
  {
   "cell_type": "code",
   "execution_count": 98,
   "metadata": {},
   "outputs": [
    {
     "name": "stdout",
     "output_type": "stream",
     "text": [
      "abcdefg\n"
     ]
    },
    {
     "data": {
      "text/plain": [
       "['abc', 'ef', 'ab', 'cd', 'def']"
      ]
     },
     "execution_count": 98,
     "metadata": {},
     "output_type": "execute_result"
    }
   ],
   "source": [
    "test4 = split_string(input())\n",
    "test4"
   ]
  },
  {
   "cell_type": "code",
   "execution_count": 94,
   "metadata": {},
   "outputs": [
    {
     "name": "stdout",
     "output_type": "stream",
     "text": [
      "abcdefg\n"
     ]
    },
    {
     "data": {
      "text/plain": [
       "7"
      ]
     },
     "execution_count": 94,
     "metadata": {},
     "output_type": "execute_result"
    }
   ],
   "source": [
    "len(input())"
   ]
  },
  {
   "cell_type": "code",
   "execution_count": null,
   "metadata": {},
   "outputs": [],
   "source": []
  }
 ],
 "metadata": {
  "kernelspec": {
   "display_name": "Python 3",
   "language": "python",
   "name": "python3"
  },
  "language_info": {
   "codemirror_mode": {
    "name": "ipython",
    "version": 3
   },
   "file_extension": ".py",
   "mimetype": "text/x-python",
   "name": "python",
   "nbconvert_exporter": "python",
   "pygments_lexer": "ipython3",
   "version": "3.8.3"
  }
 },
 "nbformat": 4,
 "nbformat_minor": 4
}
